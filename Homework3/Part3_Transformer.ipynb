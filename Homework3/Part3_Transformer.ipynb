{
 "cells": [
  {
   "attachments": {},
   "cell_type": "markdown",
   "metadata": {
    "id": "18sd8-wHGDR0"
   },
   "source": [
    "$$\n",
    "\\newcommand{\\mat}[1]{\\boldsymbol {#1}}\n",
    "\\newcommand{\\mattr}[1]{\\boldsymbol {#1}^\\top}\n",
    "\\newcommand{\\matinv}[1]{\\boldsymbol {#1}^{-1}}\n",
    "\\newcommand{\\vec}[1]{\\boldsymbol {#1}}\n",
    "\\newcommand{\\vectr}[1]{\\boldsymbol {#1}^\\top}\n",
    "\\newcommand{\\rvar}[1]{\\mathrm {#1}}\n",
    "\\newcommand{\\rvec}[1]{\\boldsymbol{\\mathrm{#1}}}\n",
    "\\newcommand{\\diag}{\\mathop{\\mathrm {diag}}}\n",
    "\\newcommand{\\set}[1]{\\mathbb {#1}}\n",
    "\\newcommand{\\norm}[1]{\\left\\lVert#1\\right\\rVert}\n",
    "\\newcommand{\\pderiv}[2]{\\frac{\\partial #1}{\\partial #2}}\n",
    "\\newcommand{\\bb}[1]{\\boldsymbol{#1}}\n",
    "$$\n",
    "# Part 3: Transformer\n",
    "<a id=part3></a>"
   ]
  },
  {
   "attachments": {},
   "cell_type": "markdown",
   "metadata": {
    "id": "AiCHKxjfGLRu"
   },
   "source": [
    "In this part we will implement a variation of the attention mechanism named the 'sliding window attention'. Next, we will create a transformer encoder with the sliding-window attention implementation, and we will train the encoder for sentiment analysis."
   ]
  },
  {
   "cell_type": "code",
   "execution_count": 1,
   "metadata": {
    "colab": {
     "base_uri": "https://localhost:8080/"
    },
    "id": "0t2UQaeKCKxa",
    "outputId": "10e4f165-d0c0-4ac9-960a-6796ff3c1750"
   },
   "outputs": [],
   "source": [
    "%load_ext autoreload\n",
    "%autoreload 2\n",
    "import unittest\n",
    "import math\n",
    "import torch\n",
    "import torch.nn as nn\n",
    "import torch.nn.functional as F\n",
    "import copy\n",
    "import torch.optim as optim\n",
    "from tqdm import tqdm\n",
    "import os\n"
   ]
  },
  {
   "cell_type": "code",
   "execution_count": 2,
   "metadata": {
    "colab": {
     "base_uri": "https://localhost:8080/"
    },
    "id": "35B3L7USC5PE",
    "outputId": "5e05f218-468a-4e54-c9bb-a7357f0dfe09"
   },
   "outputs": [
    {
     "name": "stdout",
     "output_type": "stream",
     "text": [
      "Using device: cuda\n"
     ]
    }
   ],
   "source": [
    "test = unittest.TestCase()\n",
    "device = torch.device('cuda' if torch.cuda.is_available() else 'cpu')\n",
    "\n",
    "print('Using device:', device)"
   ]
  },
  {
   "attachments": {},
   "cell_type": "markdown",
   "metadata": {
    "id": "2kRUk_GYNDd5"
   },
   "source": [
    "## Reminder: scaled dot product attention\n",
    "<a id=part3_1></a>"
   ]
  },
  {
   "attachments": {},
   "cell_type": "markdown",
   "metadata": {
    "id": "30P7CuIwNKy-"
   },
   "source": [
    "In class, you saw that the scaled dot product attention is defined as:\n",
    "\n",
    "$$\n",
    "\\begin{align}\n",
    "\\mat{B} &= \\frac{1}{\\sqrt{d}} \\mat{Q}\\mattr{K}  \\ \\in\\set{R}^{m\\times n} \\\\\n",
    "\\mat{A} &= softmax({\\mat{B}},{\\mathrm{dim}=1}), \\in\\set{R}^{m\\times n} \\\\\n",
    "\\mat{Y} &= \\mat{A}\\mat{V} \\ \\in\\set{R}^{m\\times d_v}.\n",
    "\\end{align}\n",
    "$$\n",
    "\n",
    "where `K`,`Q` and `V` for the self attention came as projections of the same input sequnce\n",
    "\n",
    "$$\n",
    "\\begin{align*}\n",
    "\\vec{q}_{i} &= \\mat{W}_{xq}\\vec{x}_{i} &\n",
    "\\vec{k}_{i} &= \\mat{W}_{xk}\\vec{x}_{i} &\n",
    "\\vec{v}_{i} &= \\mat{W}_{xv}\\vec{x}_{i} \n",
    "\\end{align*}\n",
    "$$\n",
    "\n",
    "If you feel the attention mechanism doesn't quite sit right, we recommend you go over lecture and tutorial notes before proceeding. \n",
    "\n",
    "We are now going to introduce a slight variation of the scaled dot product attention."
   ]
  },
  {
   "attachments": {},
   "cell_type": "markdown",
   "metadata": {
    "id": "G8CMV4VKG7YB"
   },
   "source": [
    "## Sliding window attention\n",
    "<a id=part3_2></a>"
   ]
  },
  {
   "attachments": {},
   "cell_type": "markdown",
   "metadata": {
    "id": "YphH4DuEHP1p"
   },
   "source": [
    "The scaled dot product attention computes the dot product between **every** pair of key and query vectors. Therefore, the computation complexity is $O(n^2)$ where $n$ is the sequence length.\n",
    "\n",
    "In order to obtain a computational complexity that grows linearly with the sequnce length, the authors of 'Longformer: The Long-Document Transformer https://arxiv.org/pdf/2004.05150.pdf' proposed the 'sliding window attention' which is a variation of the scaled dot product attention. \n",
    "\n",
    "In this variation, instead of computing the dot product for every pair of key and query vectors, the dot product is only computed for keys that are in a certain 'window' around the query vector. \n",
    "\n",
    "For example, if the keys and queries are embeddings of words in the sentence \"CS is more prestigious than EE\", and the window size is 2, then for the query corresponding to the word 'is' we will only compute a dot product with the keys that are at most ${window\\_size}\\over{2}$$ = $${2}\\over{2}$$=1$ to the left and to the right. Meaning the keys that correspond to the workds 'CS', 'is' and 'more'.\n",
    "\n",
    "Formally, the intermediate calculation of the normalized dot product can be written as: \n",
    "\n",
    "$$\n",
    "\\mathrm{b}(q, k, w) \n",
    "=\n",
    "\\begin{cases}\n",
    "    q⋅k^T\\over{\\sqrt{d_k}} & \\mathrm{if} \\;d(q,k) ≤ {{w}\\over{2}} \\\\\n",
    "    -\\infty & \\mathrm{otherwise}\n",
    "\\end{cases}.\n",
    "$$\n",
    "\n",
    "Where $b(\\cdot,\\cdot,\\cdot)$ is the intermediate result function (used to construct a matrix $\\mat{B}$ on which we perform the softmax), $q$ is the query vector, $k$ is the key vector, $w$ is the sliding window size, and $d(\\cdot,\\cdot)$ is the distance function between the positions of the tokens corresponding to the key and query vectors.\n",
    "\n",
    "**Note**: The distance function $d(\\cdot,\\cdot)$ is **Not** cyclical. Meaning that that in the example above when searching for the words at distance 1 from the word 'CS', we **don't** return cyclically from the right and count the word EE.\n",
    "\n",
    "The result of this operation can be visualized like this: (green corresponds to computing the scaled dot product, and white to a no-op or $-∞$).\n",
    "\n",
    "<img src=\"https://production-media.paperswithcode.com/methods/Screen_Shot_2020-05-31_at_7.27.29_PM.png\" width=\"400\"/>\n",
    "\n",
    "\n",
    "\n",
    "\n"
   ]
  },
  {
   "attachments": {},
   "cell_type": "markdown",
   "metadata": {
    "id": "tZTy748cWIEC"
   },
   "source": [
    "**TODO**: Implement the sliding_window_attention function in hw3/transformer.py"
   ]
  },
  {
   "cell_type": "code",
   "execution_count": 3,
   "metadata": {
    "id": "CY1gz0fSebQP"
   },
   "outputs": [],
   "source": [
    "from hw3.transformer import sliding_window_attention\n",
    "\n",
    "## test sliding-window attention\n",
    "num_heads = 3\n",
    "batch_size = 2\n",
    "seq_len = 5\n",
    "embed_dim = 3\n",
    "window_size = 2\n",
    "\n",
    "## test without extra dimension for heads\n",
    "x = torch.arange(seq_len*embed_dim).reshape(seq_len,embed_dim).repeat(batch_size,1).reshape(batch_size, seq_len, -1).float()\n",
    "\n",
    "values, attention = sliding_window_attention(x, x, x,window_size)\n",
    "\n",
    "gt_values = torch.load(os.path.join('test_tensors','values_tensor_0_heads.pt'))\n",
    "test.assertTrue(torch.all(values == gt_values), f'the tensors differ in dims [B,row,col]:{torch.stack(torch.where(values != gt_values),dim=0)}')\n",
    "\n",
    "gt_attention = torch.load(os.path.join('test_tensors','attention_tensor_0_heads.pt'))\n",
    "test.assertTrue(torch.all(attention == gt_attention), f'the tensors differ in dims [B,row,col]:{torch.stack(torch.where(attention != gt_attention),dim=0)}')\n",
    "\n",
    "## test with extra dimension for heads\n",
    "x = torch.arange(seq_len*embed_dim).reshape(seq_len,embed_dim).repeat(batch_size, num_heads, 1).reshape(batch_size, num_heads, seq_len, -1).float()\n",
    "\n",
    "values, attention = sliding_window_attention(x, x, x,window_size)\n",
    "\n",
    "gt_values = torch.load(os.path.join('test_tensors','values_tensor_3_heads.pt'))\n",
    "test.assertTrue(torch.all(values == gt_values), f'the tensors differ in dims [B,num_heads,row,col]:{torch.stack(torch.where(values != gt_values),dim=0)}')\n",
    "\n",
    "\n",
    "gt_attention = torch.load(os.path.join('test_tensors','attention_tensor_3_heads.pt'))\n",
    "test.assertTrue(torch.all(attention == gt_attention), f'the tensors differ in dims [B,num_heads,row,col]:{torch.stack(torch.where(attention != gt_attention),dim=0)}')\n"
   ]
  },
  {
   "attachments": {},
   "cell_type": "markdown",
   "metadata": {
    "id": "TlHiDHhgeS1_"
   },
   "source": [
    "## Multihead Sliding window attention\n",
    "<a id=part3_2></a>"
   ]
  },
  {
   "attachments": {},
   "cell_type": "markdown",
   "metadata": {},
   "source": [
    "As you've seen in class, the transformer model uses a Multi-head attention module. We will use the same implementation you've seen in the tutorial, aside from the attention mechanism itslef, which will be swapped with the sliding-window attention you implemented.\n"
   ]
  },
  {
   "attachments": {},
   "cell_type": "markdown",
   "metadata": {},
   "source": [
    "**TODO**: Insert the call to the sliding-window attention mechanism in the forward of MultiHeadAttention in hw3/transformer.py "
   ]
  },
  {
   "attachments": {},
   "cell_type": "markdown",
   "metadata": {
    "id": "NyHo9Oy_Z7SX",
    "tags": []
   },
   "source": [
    "## Sentiment analysis\n",
    "<a id=part3_3></a>"
   ]
  },
  {
   "attachments": {},
   "cell_type": "markdown",
   "metadata": {
    "id": "Q6MMtJFRaZCi"
   },
   "source": [
    "We will now go on to tackling the task of sentiment analysis which is the process of analyzing text to determine if the emotional tone of the message is positive or negative (many times a neutral class is also used, but this won't be the case in the data we will be working with).\n",
    "\n",
    "\n",
    "\n"
   ]
  },
  {
   "attachments": {},
   "cell_type": "markdown",
   "metadata": {
    "tags": []
   },
   "source": [
    "### IMBD hugging face dataset\n",
    "<a id=part3_3_1></a>"
   ]
  },
  {
   "attachments": {},
   "cell_type": "markdown",
   "metadata": {},
   "source": [
    "Hugging Face is a popular open-source library and platform that provides state-of-the-art tools and resources for natural language processing (NLP) tasks. It has gained immense popularity within the NLP community due to its user-friendly interfaces, powerful pre-trained models, and a vibrant community that actively contributes to its development. \n",
    "\n",
    "Hugging Face provides a wide array of tools and utilities, which we will leverage as well. The Hugging Face Transformers library, built on top of PyTorch and TensorFlow, offers a simple yet powerful API for working with Transformer-based models (such as Distil-BERT). It enables users to easily load, fine-tune, and evaluate models, as well as generate text using these models.\n",
    "\n",
    "Furthermore, Hugging Face offers the Hugging Face Datasets library, which provides access to a vast collection of publicly available datasets for NLP. These datasets can be conveniently downloaded and used for training and evaluation purposes.\n",
    "\n",
    "You are encouraged to visit their site and see other uses: https://huggingface.co/"
   ]
  },
  {
   "cell_type": "code",
   "execution_count": 4,
   "metadata": {
    "tags": []
   },
   "outputs": [
    {
     "name": "stdout",
     "output_type": "stream",
     "text": [
      "The autoreload extension is already loaded. To reload it, use:\n",
      "  %reload_ext autoreload\n"
     ]
    }
   ],
   "source": [
    "import numpy as np\n",
    "import pandas as pd\n",
    "import sys\n",
    "import pathlib\n",
    "import urllib\n",
    "import shutil\n",
    "import re\n",
    "\n",
    "import matplotlib.pyplot as plt\n",
    "\n",
    "%load_ext autoreload\n",
    "%autoreload 2"
   ]
  },
  {
   "cell_type": "code",
   "execution_count": 5,
   "metadata": {
    "editable": true,
    "slideshow": {
     "slide_type": ""
    },
    "tags": []
   },
   "outputs": [],
   "source": [
    "from datasets import DatasetDict\n",
    "from datasets import load_dataset, load_metric, concatenate_datasets"
   ]
  },
  {
   "attachments": {},
   "cell_type": "markdown",
   "metadata": {},
   "source": [
    "First, we load the dataset using Hugging Face's `datasets` library.\n",
    "\n",
    "Feel free to look around at the full array of datasets that they offer.\n",
    "\n",
    "https://huggingface.co/docs/datasets/index\n",
    "\n",
    "We will load the full training and test sets in addition to a small toy subset of the training set.\n"
   ]
  },
  {
   "cell_type": "code",
   "execution_count": 6,
   "metadata": {
    "scrolled": true,
    "tags": []
   },
   "outputs": [],
   "source": [
    "dataset = load_dataset('imdb', split=['train', 'test', 'train[12480:12520]'])"
   ]
  },
  {
   "cell_type": "code",
   "execution_count": 7,
   "metadata": {
    "tags": []
   },
   "outputs": [
    {
     "name": "stdout",
     "output_type": "stream",
     "text": [
      "[Dataset({\n",
      "    features: ['text', 'label'],\n",
      "    num_rows: 25000\n",
      "}), Dataset({\n",
      "    features: ['text', 'label'],\n",
      "    num_rows: 25000\n",
      "}), Dataset({\n",
      "    features: ['text', 'label'],\n",
      "    num_rows: 40\n",
      "})]\n"
     ]
    }
   ],
   "source": [
    "print(dataset)"
   ]
  },
  {
   "attachments": {},
   "cell_type": "markdown",
   "metadata": {},
   "source": [
    "We see that it returned a list of 3 labeled datasets, the first two of size 25,000, and the third of size 40.\n",
    "We will use these as `train` and `test` datasets for training the model, and the `toy` dataset for a sanity check. \n",
    "These Datasets are wrapped in a `Dataset` class.\n",
    "\n",
    "We now wrap the dataset into a `DatasetDict` class, which contains helpful methods to use for working with the data.   \n",
    "https://huggingface.co/docs/datasets/package_reference/main_classes#datasets.DatasetDict"
   ]
  },
  {
   "cell_type": "code",
   "execution_count": 8,
   "metadata": {
    "tags": []
   },
   "outputs": [],
   "source": [
    "#wrap it in a DatasetDict to enable methods such as map and format\n",
    "dataset = DatasetDict({'train': dataset[0], 'val': dataset[1], 'toy': dataset[2]})"
   ]
  },
  {
   "cell_type": "code",
   "execution_count": 9,
   "metadata": {
    "tags": []
   },
   "outputs": [
    {
     "data": {
      "text/plain": [
       "DatasetDict({\n",
       "    train: Dataset({\n",
       "        features: ['text', 'label'],\n",
       "        num_rows: 25000\n",
       "    })\n",
       "    val: Dataset({\n",
       "        features: ['text', 'label'],\n",
       "        num_rows: 25000\n",
       "    })\n",
       "    toy: Dataset({\n",
       "        features: ['text', 'label'],\n",
       "        num_rows: 40\n",
       "    })\n",
       "})"
      ]
     },
     "execution_count": 9,
     "metadata": {},
     "output_type": "execute_result"
    }
   ],
   "source": [
    "dataset"
   ]
  },
  {
   "attachments": {},
   "cell_type": "markdown",
   "metadata": {},
   "source": [
    "We can now access the datasets in the Dict as we would a dictionary.\n",
    "Let's print a few training samples"
   ]
  },
  {
   "cell_type": "code",
   "execution_count": 10,
   "metadata": {
    "scrolled": true,
    "tags": []
   },
   "outputs": [
    {
     "name": "stdout",
     "output_type": "stream",
     "text": [
      "Dataset({\n",
      "    features: ['text', 'label'],\n",
      "    num_rows: 25000\n",
      "})\n",
      "TRAINING SAMPLE 0:\n",
      "I rented I AM CURIOUS-YELLOW from my video store because of all the controversy that surrounded it when it was first released in 1967. I also heard that at first it was seized by U.S. customs if it ever tried to enter this country, therefore being a fan of films considered \"controversial\" I really had to see this for myself.<br /><br />The plot is centered around a young Swedish drama student named Lena who wants to learn everything she can about life. In particular she wants to focus her attentions to making some sort of documentary on what the average Swede thought about certain political issues such as the Vietnam War and race issues in the United States. In between asking politicians and ordinary denizens of Stockholm about their opinions on politics, she has sex with her drama teacher, classmates, and married men.<br /><br />What kills me about I AM CURIOUS-YELLOW is that 40 years ago, this was considered pornographic. Really, the sex and nudity scenes are few and far between, even then it's not shot like some cheaply made porno. While my countrymen mind find it shocking, in reality sex and nudity are a major staple in Swedish cinema. Even Ingmar Bergman, arguably their answer to good old boy John Ford, had sex scenes in his films.<br /><br />I do commend the filmmakers for the fact that any sex shown in the film is shown for artistic purposes rather than just to shock people and make money to be shown in pornographic theaters in America. I AM CURIOUS-YELLOW is a good film for anyone wanting to study the meat and potatoes (no pun intended) of Swedish cinema. But really, this film doesn't have much of a plot.\n",
      "Label 0: 0\n",
      "\n",
      "\n",
      "TRAINING SAMPLE 1:\n",
      "\"I Am Curious: Yellow\" is a risible and pretentious steaming pile. It doesn't matter what one's political views are because this film can hardly be taken seriously on any level. As for the claim that frontal male nudity is an automatic NC-17, that isn't true. I've seen R-rated films with male nudity. Granted, they only offer some fleeting views, but where are the R-rated films with gaping vulvas and flapping labia? Nowhere, because they don't exist. The same goes for those crappy cable shows: schlongs swinging in the breeze but not a clitoris in sight. And those pretentious indie movies like The Brown Bunny, in which we're treated to the site of Vincent Gallo's throbbing johnson, but not a trace of pink visible on Chloe Sevigny. Before crying (or implying) \"double-standard\" in matters of nudity, the mentally obtuse should take into account one unavoidably obvious anatomical difference between men and women: there are no genitals on display when actresses appears nude, and the same cannot be said for a man. In fact, you generally won't see female genitals in an American film in anything short of porn or explicit erotica. This alleged double-standard is less a double standard than an admittedly depressing ability to come to terms culturally with the insides of women's bodies.\n",
      "Label 1: 0\n",
      "\n",
      "\n",
      "TRAINING SAMPLE 2:\n",
      "If only to avoid making this type of film in the future. This film is interesting as an experiment but tells no cogent story.<br /><br />One might feel virtuous for sitting thru it because it touches on so many IMPORTANT issues but it does so without any discernable motive. The viewer comes away with no new perspectives (unless one comes up with one while one's mind wanders, as it will invariably do during this pointless film).<br /><br />One might better spend one's time staring out a window at a tree growing.<br /><br />\n",
      "Label 2: 0\n",
      "\n",
      "\n",
      "TRAINING SAMPLE 3:\n",
      "This film was probably inspired by Godard's Masculin, féminin and I urge you to see that film instead.<br /><br />The film has two strong elements and those are, (1) the realistic acting (2) the impressive, undeservedly good, photo. Apart from that, what strikes me most is the endless stream of silliness. Lena Nyman has to be most annoying actress in the world. She acts so stupid and with all the nudity in this film,...it's unattractive. Comparing to Godard's film, intellectuality has been replaced with stupidity. Without going too far on this subject, I would say that follows from the difference in ideals between the French and the Swedish society.<br /><br />A movie of its time, and place. 2/10.\n",
      "Label 3: 0\n",
      "\n",
      "\n"
     ]
    }
   ],
   "source": [
    "print(dataset['train'])\n",
    "\n",
    "for i in range(4):\n",
    "    print(f'TRAINING SAMPLE {i}:') \n",
    "    print(dataset['train'][i]['text'])\n",
    "    label = dataset['train'][i]['label']\n",
    "    print(f'Label {i}: {label}')\n",
    "    print('\\n')"
   ]
  },
  {
   "attachments": {},
   "cell_type": "markdown",
   "metadata": {},
   "source": [
    "We should check the label distirbution:"
   ]
  },
  {
   "cell_type": "code",
   "execution_count": 11,
   "metadata": {
    "tags": []
   },
   "outputs": [
    {
     "name": "stdout",
     "output_type": "stream",
     "text": [
      "negative samples in train dataset: 12500\n",
      "positive samples in train dataset: 12500\n",
      "negative samples in val dataset: 12500\n",
      "positive samples in val dataset: 12500\n",
      "negative samples in toy dataset: 20\n",
      "positive samples in toy dataset: 20\n"
     ]
    }
   ],
   "source": [
    "def label_cnt(type):\n",
    "    ds = dataset[type]\n",
    "    size = len(ds)\n",
    "    cnt= 0 \n",
    "    for smp in ds:\n",
    "        cnt += smp['label']\n",
    "    print(f'negative samples in {type} dataset: {size - cnt}')\n",
    "    print(f'positive samples in {type} dataset: {cnt}')\n",
    "    \n",
    "label_cnt('train')\n",
    "label_cnt('val')\n",
    "label_cnt('toy')\n"
   ]
  },
  {
   "attachments": {},
   "cell_type": "markdown",
   "metadata": {
    "tags": []
   },
   "source": [
    "### __Import the tokenizer for the dataset__"
   ]
  },
  {
   "attachments": {},
   "cell_type": "markdown",
   "metadata": {},
   "source": [
    "Let’s tokenize the texts into individual word tokens using the tokenizer implementation inherited from the pre-trained model class.  \n",
    "With Hugging Face you will always find a tokenizer associated with each model. If you are not doing research or experiments on tokenizers it’s always preferable to use the standard tokenizers.  \n",
    "\n"
   ]
  },
  {
   "cell_type": "code",
   "execution_count": 12,
   "metadata": {
    "tags": []
   },
   "outputs": [
    {
     "name": "stdout",
     "output_type": "stream",
     "text": [
      "Tokenizer input max length: 512\n",
      "Tokenizer vocabulary size: 30522\n"
     ]
    },
    {
     "name": "stderr",
     "output_type": "stream",
     "text": [
      "/home/chenpery/miniconda3/envs/cs236781-hw3/lib/python3.8/site-packages/transformers/tokenization_utils_base.py:1601: FutureWarning: `clean_up_tokenization_spaces` was not set. It will be set to `True` by default. This behavior will be depracted in transformers v4.45, and will be then set to `False` by default. For more details check this issue: https://github.com/huggingface/transformers/issues/31884\n",
      "  warnings.warn(\n"
     ]
    }
   ],
   "source": [
    "from transformers import AutoTokenizer\n",
    "\n",
    "tokenizer = AutoTokenizer.from_pretrained(\"distilbert-base-uncased\")\n",
    "print(\"Tokenizer input max length:\", tokenizer.model_max_length)\n",
    "print(\"Tokenizer vocabulary size:\", tokenizer.vocab_size)"
   ]
  },
  {
   "attachments": {},
   "cell_type": "markdown",
   "metadata": {},
   "source": [
    "Let's create helper functions to tokenize the text. Notice the arguments sent to the tokenizer.  \n",
    "__Padding__ is a strategy for ensuring tensors are rectangular by adding a special padding token to shorter sentences.   \n",
    "On the other hand , sometimes a sequence may be too long for a model to handle. In this case, you’ll need to __truncate__ the sequence to a shorter length."
   ]
  },
  {
   "cell_type": "code",
   "execution_count": 13,
   "metadata": {
    "editable": true,
    "scrolled": true,
    "slideshow": {
     "slide_type": ""
    },
    "tags": []
   },
   "outputs": [],
   "source": [
    "def tokenize_text(batch):\n",
    "    return tokenizer(batch[\"text\"], truncation=True, padding=True)\n",
    "\n",
    "def tokenize_dataset(dataset):\n",
    "    dataset_tokenized = dataset.map(tokenize_text, batched=True, batch_size =None)\n",
    "    return dataset_tokenized\n",
    "\n",
    "dataset_tokenized = tokenize_dataset(dataset)"
   ]
  },
  {
   "cell_type": "code",
   "execution_count": 14,
   "metadata": {
    "tags": []
   },
   "outputs": [],
   "source": [
    "# we would like to work with pytorch so we can manually fine-tune\n",
    "dataset_tokenized.set_format(\"torch\", columns=[\"input_ids\", \"attention_mask\", \"label\"])"
   ]
  },
  {
   "cell_type": "code",
   "execution_count": 15,
   "metadata": {
    "tags": []
   },
   "outputs": [],
   "source": [
    "# no need to parrarelize in this assignment\n",
    "os.environ[\"TOKENIZERS_PARALLELISM\"] = \"false\""
   ]
  },
  {
   "attachments": {},
   "cell_type": "markdown",
   "metadata": {
    "tags": []
   },
   "source": [
    "### __Setting up the dataloaders and dataset__"
   ]
  },
  {
   "attachments": {},
   "cell_type": "markdown",
   "metadata": {},
   "source": [
    "We will now set up the dataloaders for efficient batching and loading of the data.  \n",
    "By now, you are familiar with the Class methods that are needed to create a working Dataloader.\n"
   ]
  },
  {
   "cell_type": "code",
   "execution_count": 16,
   "metadata": {
    "tags": []
   },
   "outputs": [],
   "source": [
    "from torch.utils.data import DataLoader, Dataset"
   ]
  },
  {
   "cell_type": "code",
   "execution_count": 17,
   "metadata": {
    "tags": []
   },
   "outputs": [],
   "source": [
    "class IMDBDataset(Dataset):\n",
    "    def __init__(self, dataset):\n",
    "        self.ds = dataset\n",
    "\n",
    "    def __getitem__(self, index):\n",
    "        return self.ds[index]\n",
    "\n",
    "    def __len__(self):\n",
    "        return self.ds.num_rows"
   ]
  },
  {
   "cell_type": "code",
   "execution_count": 18,
   "metadata": {
    "tags": []
   },
   "outputs": [],
   "source": [
    "train_dataset = IMDBDataset(dataset_tokenized['train'])\n",
    "val_dataset = IMDBDataset(dataset_tokenized['val'])\n",
    "toy_dataset = IMDBDataset(dataset_tokenized['toy'])"
   ]
  },
  {
   "cell_type": "code",
   "execution_count": 19,
   "metadata": {
    "editable": true,
    "slideshow": {
     "slide_type": ""
    },
    "tags": []
   },
   "outputs": [],
   "source": [
    "dl_train,dl_val, dl_toy = [ \n",
    "    DataLoader(\n",
    "    dataset=train_dataset,\n",
    "    batch_size=12,\n",
    "    shuffle=True, \n",
    "    num_workers=0\n",
    "),\n",
    "DataLoader(\n",
    "    dataset=val_dataset,\n",
    "    batch_size=12,\n",
    "    shuffle=True, \n",
    "    num_workers=0\n",
    "),\n",
    "DataLoader(\n",
    "    dataset=toy_dataset,\n",
    "    batch_size=4,\n",
    "    num_workers=0\n",
    ")]"
   ]
  },
  {
   "attachments": {},
   "cell_type": "markdown",
   "metadata": {
    "id": "tDSwVcumaY_E",
    "tags": []
   },
   "source": [
    "### Transformer Encoder\n",
    "<a id=part3_3_2></a>"
   ]
  },
  {
   "attachments": {},
   "cell_type": "markdown",
   "metadata": {
    "id": "qDsr_vqWa3V5"
   },
   "source": [
    "The model we will use for the task at hand, is the encoder of the transformer proposed in the seminal paper 'Attention Is All You Need'.\n",
    "\n",
    "The encoder is composed of positional encoding, and then multiple blocks which compute multi-head attention, layer normalization and a feed forward network as described in the diagram below.\n",
    "\n"
   ]
  },
  {
   "attachments": {},
   "cell_type": "markdown",
   "metadata": {
    "tags": []
   },
   "source": [
    "<img src=\"imgs/transformer_encoder.png\" alt=\"Alternative text\" />"
   ]
  },
  {
   "attachments": {},
   "cell_type": "markdown",
   "metadata": {
    "tags": []
   },
   "source": [
    "We provided you with implemetations for the positional encoding and the position-wise feed forward MLP in hw3/transformer.py. \n",
    "\n",
    "Feel free to read through the implementations to make sure you understand what they do."
   ]
  },
  {
   "attachments": {},
   "cell_type": "markdown",
   "metadata": {},
   "source": [
    "**TODO**: To begin with, complete the transformer EncoderLayer in hw3/transformer.py"
   ]
  },
  {
   "cell_type": "code",
   "execution_count": 20,
   "metadata": {
    "tags": []
   },
   "outputs": [],
   "source": [
    "from hw3.transformer import EncoderLayer\n",
    "# set torch seed for reproducibility\n",
    "torch.manual_seed(0)\n",
    "layer = EncoderLayer(embed_dim=16, hidden_dim=16, num_heads=4, window_size=4, dropout=0.1)\n",
    "\n",
    "# load x and y\n",
    "x = torch.load(os.path.join('test_tensors','encoder_layer_input.pt'))\n",
    "y = torch.load(os.path.join('test_tensors','encoder_layer_output.pt'))\n",
    "padding_mask = torch.ones(2, 10)\n",
    "padding_mask[:, 5:] = 0\n",
    "\n",
    "# forward pass\n",
    "out = layer(x, padding_mask)\n",
    "test.assertTrue(torch.allclose(out, y, atol=1e-6), 'output of encoder layer is incorrect')"
   ]
  },
  {
   "attachments": {},
   "cell_type": "markdown",
   "metadata": {},
   "source": [
    "In order to classify a sentence using the encoder, we need to somehow summarize the output of the last encoder layer (which will include an output for each token in the tokenized input sentence). \n",
    "\n",
    "There are several options for doing this. We will use the output of the special token [CLS] appended to the beginning of each sentence by the bert tokenizer we are using.\n",
    "\n",
    "Let's see an example of the first tokens in a sentence after tokenization:"
   ]
  },
  {
   "cell_type": "code",
   "execution_count": 21,
   "metadata": {
    "tags": []
   },
   "outputs": [
    {
     "data": {
      "text/plain": [
       "['[CLS]', 'i', 'rented', 'i', 'am', 'curious', '-', 'yellow', 'from', 'my']"
      ]
     },
     "execution_count": 21,
     "metadata": {},
     "output_type": "execute_result"
    }
   ],
   "source": [
    "tokenizer.convert_ids_to_tokens(dataset_tokenized['train'][0]['input_ids'])[:10]"
   ]
  },
  {
   "attachments": {},
   "cell_type": "markdown",
   "metadata": {},
   "source": [
    "\n",
    "\n",
    "**TODO**: Now it's time to put it all together. Complete the implementaion of 'Encoder' in hw3/transformer.py"
   ]
  },
  {
   "cell_type": "code",
   "execution_count": 39,
   "metadata": {
    "tags": []
   },
   "outputs": [
    {
     "name": "stdout",
     "output_type": "stream",
     "text": [
      "expected:  tensor([[-0.3537],\n",
      "        [-0.6258]], requires_grad=True)\n",
      "mine tensor([[-0.3382],\n",
      "        [-0.7028]], grad_fn=<MmBackward0>)\n"
     ]
    },
    {
     "ename": "AssertionError",
     "evalue": "False is not true : output of encoder layer is incorrect",
     "output_type": "error",
     "traceback": [
      "\u001b[0;31m---------------------------------------------------------------------------\u001b[0m",
      "\u001b[0;31mAssertionError\u001b[0m                            Traceback (most recent call last)",
      "Cell \u001b[0;32mIn[39], line 22\u001b[0m\n\u001b[1;32m     19\u001b[0m \u001b[38;5;28mprint\u001b[39m(\u001b[38;5;124m\"\u001b[39m\u001b[38;5;124mexpected: \u001b[39m\u001b[38;5;124m\"\u001b[39m,y)\n\u001b[1;32m     21\u001b[0m \u001b[38;5;28mprint\u001b[39m(\u001b[38;5;124m\"\u001b[39m\u001b[38;5;124mmine\u001b[39m\u001b[38;5;124m\"\u001b[39m , out)\n\u001b[0;32m---> 22\u001b[0m \u001b[43mtest\u001b[49m\u001b[38;5;241;43m.\u001b[39;49m\u001b[43massertTrue\u001b[49m\u001b[43m(\u001b[49m\u001b[43mtorch\u001b[49m\u001b[38;5;241;43m.\u001b[39;49m\u001b[43mallclose\u001b[49m\u001b[43m(\u001b[49m\u001b[43mout\u001b[49m\u001b[43m,\u001b[49m\u001b[43m \u001b[49m\u001b[43my\u001b[49m\u001b[43m,\u001b[49m\u001b[43m \u001b[49m\u001b[43matol\u001b[49m\u001b[38;5;241;43m=\u001b[39;49m\u001b[38;5;241;43m1e-6\u001b[39;49m\u001b[43m)\u001b[49m\u001b[43m,\u001b[49m\u001b[43m \u001b[49m\u001b[38;5;124;43m'\u001b[39;49m\u001b[38;5;124;43moutput of encoder layer is incorrect\u001b[39;49m\u001b[38;5;124;43m'\u001b[39;49m\u001b[43m)\u001b[49m\n\u001b[1;32m     23\u001b[0m \u001b[38;5;66;03m#test.assertTrue(torch.allclose(out, y, atol=1e0), 'output of encoder layer is incorrect')\u001b[39;00m\n",
      "File \u001b[0;32m~/miniconda3/envs/cs236781-hw3/lib/python3.8/unittest/case.py:765\u001b[0m, in \u001b[0;36mTestCase.assertTrue\u001b[0;34m(self, expr, msg)\u001b[0m\n\u001b[1;32m    763\u001b[0m \u001b[38;5;28;01mif\u001b[39;00m \u001b[38;5;129;01mnot\u001b[39;00m expr:\n\u001b[1;32m    764\u001b[0m     msg \u001b[38;5;241m=\u001b[39m \u001b[38;5;28mself\u001b[39m\u001b[38;5;241m.\u001b[39m_formatMessage(msg, \u001b[38;5;124m\"\u001b[39m\u001b[38;5;132;01m%s\u001b[39;00m\u001b[38;5;124m is not true\u001b[39m\u001b[38;5;124m\"\u001b[39m \u001b[38;5;241m%\u001b[39m safe_repr(expr))\n\u001b[0;32m--> 765\u001b[0m     \u001b[38;5;28;01mraise\u001b[39;00m \u001b[38;5;28mself\u001b[39m\u001b[38;5;241m.\u001b[39mfailureException(msg)\n",
      "\u001b[0;31mAssertionError\u001b[0m: False is not true : output of encoder layer is incorrect"
     ]
    }
   ],
   "source": [
    "from hw3.transformer import Encoder\n",
    "\n",
    "# set torch seed for reproducibility\n",
    "torch.manual_seed(0)\n",
    "encoder = Encoder(vocab_size=100, embed_dim=16, num_heads=4, num_layers=3, \n",
    "                  hidden_dim=16, max_seq_length=64, window_size=4, dropout=0.1)\n",
    "\n",
    "\n",
    "# load x and y\n",
    "x = torch.load(os.path.join('test_tensors','encoder_input.pt'))\n",
    "y = torch.load(os.path.join('test_tensors','encoder_output.pt'))\n",
    "x = torch.randint(0, 100, (2, 64)).long()\n",
    "\n",
    "padding_mask = torch.ones(2, 64)\n",
    "padding_mask[:, 50:] = 0\n",
    "#print(x)\n",
    "# forward pass\n",
    "out = encoder(x, padding_mask)\n",
    "print(\"expected: \",y)\n",
    "\n",
    "print(\"mine\" , out)\n",
    "test.assertTrue(torch.allclose(out, y, atol=1e-6), 'output of encoder layer is incorrect')\n",
    "#test.assertTrue(torch.allclose(out, y, atol=1e0), 'output of encoder layer is incorrect')"
   ]
  },
  {
   "attachments": {},
   "cell_type": "markdown",
   "metadata": {},
   "source": [
    "### Training the encoder\n",
    "<a id=part3_3_3></a>"
   ]
  },
  {
   "attachments": {},
   "cell_type": "markdown",
   "metadata": {},
   "source": [
    "We will now proceed to train the model. \n",
    "\n",
    "**TODO**: Complete the implementation of TransformerEncoderTrainer in hw3/training.py"
   ]
  },
  {
   "attachments": {},
   "cell_type": "markdown",
   "metadata": {},
   "source": [
    "#### Training on a toy dataset"
   ]
  },
  {
   "attachments": {},
   "cell_type": "markdown",
   "metadata": {},
   "source": [
    "To begin with, we will train on a small toy dataset of 40 samples. This will serve as a sanity check to make sure nothing is buggy.\n",
    "\n",
    "**TODO**: choose the hyperparameters in hw3.answers part3_transformer_encoder_hyperparams."
   ]
  },
  {
   "cell_type": "code",
   "execution_count": 23,
   "metadata": {
    "id": "VWHBI8gm2qo-"
   },
   "outputs": [
    {
     "name": "stdout",
     "output_type": "stream",
     "text": [
      "{'embed_dim': 128, 'num_heads': 4, 'num_layers': 6, 'hidden_dim': 256, 'window_size': 100, 'droupout': 0.1, 'lr': 0.0001}\n"
     ]
    }
   ],
   "source": [
    "from hw3.answers import part3_transformer_encoder_hyperparams\n",
    "\n",
    "params = part3_transformer_encoder_hyperparams()\n",
    "print(params)\n",
    "embed_dim = params['embed_dim'] \n",
    "num_heads = params['num_heads']\n",
    "num_layers = params['num_layers']\n",
    "hidden_dim = params['hidden_dim']\n",
    "window_size = params['window_size']\n",
    "dropout = params['droupout']\n",
    "lr = params['lr']\n",
    "\n",
    "vocab_size = tokenizer.vocab_size\n",
    "max_seq_length = tokenizer.model_max_length\n",
    "\n",
    "max_batches_per_epoch = None\n",
    "N_EPOCHS = 20"
   ]
  },
  {
   "cell_type": "code",
   "execution_count": 24,
   "metadata": {},
   "outputs": [],
   "source": [
    "torch.autograd.set_detect_anomaly(True)\n",
    "toy_model = Encoder(vocab_size, embed_dim, num_heads, num_layers, hidden_dim, max_seq_length, window_size, dropout=dropout).to(device)\n",
    "toy_optimizer = optim.Adam(toy_model.parameters(), lr=lr)\n",
    "criterion = nn.BCEWithLogitsLoss()"
   ]
  },
  {
   "cell_type": "code",
   "execution_count": 25,
   "metadata": {
    "tags": []
   },
   "outputs": [
    {
     "name": "stdout",
     "output_type": "stream",
     "text": [
      "--- EPOCH 1/20 ---\n",
      "train_batch (Avg. Loss 1.084, Accuracy 50.0): 100%|██████████| 10/10 [00:02<00:00,  4.63it/s]\n",
      "test_batch (Avg. Loss 0.906, Accuracy 50.0): 100%|██████████| 10/10 [00:00<00:00, 71.92it/s]\n",
      "*** Saved checkpoint toy_transfomer_encoder.pt at epoch 1\n",
      "--- EPOCH 2/20 ---\n",
      "train_batch (Avg. Loss 0.709, Accuracy 50.0): 100%|██████████| 10/10 [00:01<00:00,  6.89it/s]\n",
      "test_batch (Avg. Loss 0.705, Accuracy 50.0): 100%|██████████| 10/10 [00:00<00:00, 74.05it/s]\n",
      "--- EPOCH 3/20 ---\n",
      "train_batch (Avg. Loss 0.659, Accuracy 60.0): 100%|██████████| 10/10 [00:01<00:00,  6.95it/s]\n",
      "test_batch (Avg. Loss 0.684, Accuracy 50.0): 100%|██████████| 10/10 [00:00<00:00, 76.54it/s]\n",
      "--- EPOCH 4/20 ---\n",
      "train_batch (Avg. Loss 0.700, Accuracy 50.0): 100%|██████████| 10/10 [00:01<00:00,  7.00it/s]\n",
      "test_batch (Avg. Loss 0.686, Accuracy 50.0): 100%|██████████| 10/10 [00:00<00:00, 75.26it/s]\n",
      "--- EPOCH 5/20 ---\n",
      "train_batch (Avg. Loss 0.722, Accuracy 40.0): 100%|██████████| 10/10 [00:01<00:00,  6.98it/s]\n",
      "test_batch (Avg. Loss 0.680, Accuracy 50.0): 100%|██████████| 10/10 [00:00<00:00, 76.74it/s]\n",
      "--- EPOCH 6/20 ---\n",
      "train_batch (Avg. Loss 0.703, Accuracy 42.5): 100%|██████████| 10/10 [00:01<00:00,  6.92it/s]\n",
      "test_batch (Avg. Loss 0.675, Accuracy 67.5): 100%|██████████| 10/10 [00:00<00:00, 71.88it/s]\n",
      "*** Saved checkpoint toy_transfomer_encoder.pt at epoch 6\n",
      "--- EPOCH 7/20 ---\n",
      "train_batch (Avg. Loss 0.702, Accuracy 40.0): 100%|██████████| 10/10 [00:01<00:00,  6.92it/s]\n",
      "test_batch (Avg. Loss 0.669, Accuracy 80.0): 100%|██████████| 10/10 [00:00<00:00, 71.46it/s]\n",
      "*** Saved checkpoint toy_transfomer_encoder.pt at epoch 7\n",
      "--- EPOCH 8/20 ---\n",
      "train_batch (Avg. Loss 0.693, Accuracy 47.5): 100%|██████████| 10/10 [00:01<00:00,  6.94it/s]\n",
      "test_batch (Avg. Loss 0.662, Accuracy 80.0): 100%|██████████| 10/10 [00:00<00:00, 75.97it/s]\n",
      "--- EPOCH 9/20 ---\n",
      "train_batch (Avg. Loss 0.690, Accuracy 57.5): 100%|██████████| 10/10 [00:01<00:00,  6.98it/s]\n",
      "test_batch (Avg. Loss 0.653, Accuracy 77.5): 100%|██████████| 10/10 [00:00<00:00, 77.29it/s]\n",
      "--- EPOCH 10/20 ---\n",
      "train_batch (Avg. Loss 0.691, Accuracy 52.5): 100%|██████████| 10/10 [00:01<00:00,  6.93it/s]\n",
      "test_batch (Avg. Loss 0.642, Accuracy 85.0): 100%|██████████| 10/10 [00:00<00:00, 77.27it/s]\n",
      "*** Saved checkpoint toy_transfomer_encoder.pt at epoch 10\n",
      "--- EPOCH 11/20 ---\n",
      "train_batch (Avg. Loss 0.681, Accuracy 52.5): 100%|██████████| 10/10 [00:01<00:00,  6.85it/s]\n",
      "test_batch (Avg. Loss 0.627, Accuracy 82.5): 100%|██████████| 10/10 [00:00<00:00, 76.73it/s]\n",
      "--- EPOCH 12/20 ---\n",
      "train_batch (Avg. Loss 0.665, Accuracy 60.0): 100%|██████████| 10/10 [00:01<00:00,  6.93it/s]\n",
      "test_batch (Avg. Loss 0.606, Accuracy 85.0): 100%|██████████| 10/10 [00:00<00:00, 76.79it/s]\n",
      "--- EPOCH 13/20 ---\n",
      "train_batch (Avg. Loss 0.650, Accuracy 67.5): 100%|██████████| 10/10 [00:01<00:00,  6.89it/s]\n",
      "test_batch (Avg. Loss 0.576, Accuracy 87.5): 100%|██████████| 10/10 [00:00<00:00, 76.72it/s]\n",
      "*** Saved checkpoint toy_transfomer_encoder.pt at epoch 13\n",
      "--- EPOCH 14/20 ---\n",
      "train_batch (Avg. Loss 0.633, Accuracy 65.0): 100%|██████████| 10/10 [00:01<00:00,  6.90it/s]\n",
      "test_batch (Avg. Loss 0.539, Accuracy 90.0): 100%|██████████| 10/10 [00:00<00:00, 77.10it/s]\n",
      "*** Saved checkpoint toy_transfomer_encoder.pt at epoch 14\n",
      "--- EPOCH 15/20 ---\n",
      "train_batch (Avg. Loss 0.621, Accuracy 62.5): 100%|██████████| 10/10 [00:01<00:00,  6.94it/s]\n",
      "test_batch (Avg. Loss 0.493, Accuracy 90.0): 100%|██████████| 10/10 [00:00<00:00, 77.36it/s]\n",
      "--- EPOCH 16/20 ---\n",
      "train_batch (Avg. Loss 0.602, Accuracy 70.0): 100%|██████████| 10/10 [00:01<00:00,  6.93it/s]\n",
      "test_batch (Avg. Loss 0.443, Accuracy 92.5): 100%|██████████| 10/10 [00:00<00:00, 71.96it/s]\n",
      "*** Saved checkpoint toy_transfomer_encoder.pt at epoch 16\n",
      "--- EPOCH 17/20 ---\n",
      "train_batch (Avg. Loss 0.535, Accuracy 70.0): 100%|██████████| 10/10 [00:01<00:00,  6.91it/s]\n",
      "test_batch (Avg. Loss 0.373, Accuracy 97.5): 100%|██████████| 10/10 [00:00<00:00, 72.64it/s]\n",
      "*** Saved checkpoint toy_transfomer_encoder.pt at epoch 17\n",
      "--- EPOCH 18/20 ---\n",
      "train_batch (Avg. Loss 0.494, Accuracy 75.0): 100%|██████████| 10/10 [00:01<00:00,  6.90it/s]\n",
      "test_batch (Avg. Loss 0.323, Accuracy 92.5): 100%|██████████| 10/10 [00:00<00:00, 73.37it/s]\n",
      "--- EPOCH 19/20 ---\n",
      "train_batch (Avg. Loss 0.441, Accuracy 80.0): 100%|██████████| 10/10 [00:01<00:00,  6.93it/s]\n",
      "test_batch (Avg. Loss 0.248, Accuracy 95.0): 100%|██████████| 10/10 [00:00<00:00, 77.05it/s]\n",
      "--- EPOCH 20/20 ---\n",
      "train_batch (Avg. Loss 0.325, Accuracy 85.0): 100%|██████████| 10/10 [00:01<00:00,  6.95it/s]\n",
      "test_batch (Avg. Loss 0.188, Accuracy 97.5): 100%|██████████| 10/10 [00:00<00:00, 77.31it/s]\n"
     ]
    },
    {
     "data": {
      "text/plain": [
       "<All keys matched successfully>"
      ]
     },
     "execution_count": 25,
     "metadata": {},
     "output_type": "execute_result"
    }
   ],
   "source": [
    "# fit your model\n",
    "import pickle\n",
    "if not os.path.exists('toy_transfomer_encoder.pt'):\n",
    "    # overfit\n",
    "    from hw3.training import TransformerEncoderTrainer\n",
    "    toy_trainer = TransformerEncoderTrainer(toy_model, criterion, toy_optimizer, device= device)\n",
    "    # set max batches per epoch\n",
    "    _ = toy_trainer.fit(dl_toy, dl_toy, N_EPOCHS, checkpoints='toy_transfomer_encoder', max_batches=max_batches_per_epoch)\n",
    "\n",
    "\n",
    "toy_saved_state = torch.load('toy_transfomer_encoder.pt')\n",
    "toy_best_acc = toy_saved_state['best_acc']\n",
    "toy_model.load_state_dict(toy_saved_state['model_state']) \n"
   ]
  },
  {
   "cell_type": "code",
   "execution_count": 26,
   "metadata": {},
   "outputs": [],
   "source": [
    "#print(toy_saved_state)"
   ]
  },
  {
   "cell_type": "code",
   "execution_count": 27,
   "metadata": {
    "tags": []
   },
   "outputs": [],
   "source": [
    "test.assertTrue(toy_best_acc >= 95)"
   ]
  },
  {
   "attachments": {},
   "cell_type": "markdown",
   "metadata": {},
   "source": [
    "#### Training on all data"
   ]
  },
  {
   "attachments": {},
   "cell_type": "markdown",
   "metadata": {},
   "source": [
    "Congratulations! You are now ready to train your sentiment analysis classifier!\n"
   ]
  },
  {
   "cell_type": "code",
   "execution_count": 28,
   "metadata": {
    "tags": []
   },
   "outputs": [],
   "source": [
    "max_batches_per_epoch = 500\n",
    "N_EPOCHS = 4"
   ]
  },
  {
   "cell_type": "code",
   "execution_count": 29,
   "metadata": {
    "tags": []
   },
   "outputs": [],
   "source": [
    "model = Encoder(vocab_size, embed_dim, num_heads, num_layers, hidden_dim, max_seq_length, window_size, dropout).to(device)\n",
    "optimizer = optim.Adam(model.parameters(), lr=lr)"
   ]
  },
  {
   "cell_type": "code",
   "execution_count": 30,
   "metadata": {
    "tags": []
   },
   "outputs": [
    {
     "name": "stdout",
     "output_type": "stream",
     "text": [
      "--- EPOCH 1/4 ---\n",
      "train_batch (Avg. Loss 0.694, Accuracy 52.0): 100%|██████████| 500/500 [01:17<00:00,  6.45it/s]\n",
      "test_batch (Avg. Loss 0.663, Accuracy 60.3): 100%|██████████| 500/500 [00:15<00:00, 33.16it/s]\n",
      "*** Saved checkpoint trained_transfomer_encoder.pt at epoch 1\n",
      "--- EPOCH 2/4 ---\n",
      "train_batch (Avg. Loss 0.664, Accuracy 60.2): 100%|██████████| 500/500 [01:17<00:00,  6.42it/s]\n",
      "test_batch (Avg. Loss 0.674, Accuracy 57.2): 100%|██████████| 500/500 [00:15<00:00, 33.23it/s]\n",
      "--- EPOCH 3/4 ---\n",
      "train_batch (Avg. Loss 0.638, Accuracy 64.0): 100%|██████████| 500/500 [01:17<00:00,  6.45it/s]\n",
      "test_batch (Avg. Loss 0.622, Accuracy 65.2): 100%|██████████| 500/500 [00:15<00:00, 33.18it/s]\n",
      "*** Saved checkpoint trained_transfomer_encoder.pt at epoch 3\n",
      "--- EPOCH 4/4 ---\n",
      "train_batch (Avg. Loss 0.605, Accuracy 68.0): 100%|██████████| 500/500 [01:18<00:00,  6.41it/s]\n",
      "test_batch (Avg. Loss 0.627, Accuracy 65.4): 100%|██████████| 500/500 [00:15<00:00, 33.26it/s]\n",
      "*** Saved checkpoint trained_transfomer_encoder.pt at epoch 4\n"
     ]
    },
    {
     "data": {
      "text/plain": [
       "<All keys matched successfully>"
      ]
     },
     "execution_count": 30,
     "metadata": {},
     "output_type": "execute_result"
    }
   ],
   "source": [
    "# fit your model\n",
    "import pickle\n",
    "if not os.path.exists('trained_transfomer_encoder.pt'):\n",
    "    from hw3.training import TransformerEncoderTrainer\n",
    "    trainer = TransformerEncoderTrainer(model, criterion, optimizer, device= device)\n",
    "    # set max batches per epoch\n",
    "    _ = trainer.fit(dl_train, dl_val, N_EPOCHS, checkpoints='trained_transfomer_encoder', max_batches=max_batches_per_epoch)\n",
    "    \n",
    "\n",
    "saved_state = torch.load('trained_transfomer_encoder.pt')\n",
    "best_acc = saved_state['best_acc']\n",
    "model.load_state_dict(saved_state['model_state']) \n",
    " "
   ]
  },
  {
   "cell_type": "code",
   "execution_count": 31,
   "metadata": {},
   "outputs": [
    {
     "name": "stdout",
     "output_type": "stream",
     "text": [
      "65.41666666666667\n"
     ]
    }
   ],
   "source": [
    "#print(saved_state)\n",
    "print(best_acc)"
   ]
  },
  {
   "cell_type": "code",
   "execution_count": 32,
   "metadata": {
    "tags": []
   },
   "outputs": [],
   "source": [
    "test.assertTrue(best_acc >= 65)"
   ]
  },
  {
   "attachments": {},
   "cell_type": "markdown",
   "metadata": {},
   "source": [
    "Run the follwing cells to see an example of the model output:"
   ]
  },
  {
   "cell_type": "code",
   "execution_count": 33,
   "metadata": {
    "tags": []
   },
   "outputs": [
    {
     "data": {
      "text/plain": [
       "tensor([2224])"
      ]
     },
     "execution_count": 33,
     "metadata": {},
     "output_type": "execute_result"
    }
   ],
   "source": [
    "rand_index = torch.randint(len(dataset_tokenized['val']), (1,))\n",
    "rand_index"
   ]
  },
  {
   "cell_type": "code",
   "execution_count": 34,
   "metadata": {
    "tags": []
   },
   "outputs": [
    {
     "data": {
      "text/plain": [
       "['This usually all sounds a lot better in my head (so forgive me for rambling) I\\'m hardly Tarantino\\'s biggest fan (and will *try* not to stoop to calling him a \\'hack\\'....which is quite hard) I don\\'t like to mock or critique a movie before seeing it. So with cautious hesitation, i walked to the cinema today to watch \\'Inglorious Basterds\\'<br /><br />Now, to call it a \\'rip-off of a rip-off\\' would be unfair here. Tarantino is happy enough to take the title from Enzo Castellari\\'s (less than spectacular) Dirty Dozen clone, but not it\\'s plot points (that, he takes from all other genre of movies) \\'Inglorious\\' opens with a Nazi officer and his lengthy interrogation against a farmer who is hiding Jews in his basement. This is such an anti-climax, in that, it\\'s dialogue is stale, and outcome signposted a mile off. Of course, one of the hidden Jews makes her escape (but more of her later) We (the obviously, easily pleased) audience are treated to the introduction of Lt. Aldo Raine (ha-ha, that name almost sounds like B-movie king ALDO RAY....ha-ha Quentin...keep those \\'tributes\\' coming) and this character is played by none other than Brad (DALLAS) Pitt (sorry, DALLAS was about the only good thing he\\'s ever starred in) and with jaw-jutting, Mr Jolie treats us to a hound-dogged, southern drawled, smirking Nazi-killer. Meanwhile Mr Tarantino forgets that actual grown-ups may be in attendance, so assumes that the teenyboppers won\\'t have heard of the \\'Dirty Dozen\\'?<br /><br />Raines \\'platoon\\' consists of (John Cassavettes looking) blood-thirsty Jewish soldiers, all looking to get the big payback on Adolf Hitler. Tarantino in all his superior knowledge, pays special attention to two of these men, by casting his long time best buddy (and fellow homage-sycophant) Eli Roth (as the baseball bat wielding \\'Bear Jew\\') The other man is called Hugo Stiglitz (and i\\'ll wager more than half the QT fan-boys had never heard this name before this movie) Keep up the good work Tarantino, you\\'ve managed about 6 or 7 \\'hommages\\' so far (in the first 15 minutes) keep adding them, and it may detract from the plot (or lack of?)<br /><br />Anyhow, cutting a long (and extremely boring and protracted) story short, both Raine and his men (the \\'Inglorious Basterds\\') and the sole survivor from chapter one, both have separate plots to kill Hitler at the showing of a Nazi-propaganda movie, in a french cinema (owned by the fore-mentioned survivor, now grown up)<br /><br />More boring (and pointless) conversations follow two and fro, as Pitt mugs away at an audience past caring. And any genuine suspense, leading to the assassination of the most deadly tyrant of all time, is thrown-away by the directors insistence of placing a 1980\\'s David Bowie song in a WWII movie.<br /><br />My problems (and there are many) with this movie, is the re-occurring problem i have with most Tarantino product.....he rarely knows when to either start or stop. I don\\'t need \\'homage\\' after \\'homage\\' to get the *joke* (whatever it may be) I knew of Inglorious Bastards, Enzo Castellari, Aldo Ray, Hugo Stiglitz (and the ultimate crime of the entire movie) Ennio Morricone\\'s haunting score from REVOLVER. I go to the cinema to see the stars.....if the best you can do is the dire Barad Pitt, i\\'ll assume You (Mr Tarantino) are the main draw here? I don\\'t want the audience directing the movie. I pay to see YOUR vision, your ideas, your creativity....NOT how you can patchwork (time and time again) endless scenes from endless movies. It\\'s high time the fan-boys (on IMDb) employed some \\'tough love\\' on your \\'idol\\' (god knows, if you don\\'t....the studios should?)<br /><br />The tired old argument with Tarantino worshippers is \"well, if you can do better...do so\" Let me tell you, if i was a 46 year old director, with the (unfortunate) pull QT has.....i\\'d want to offer YOU a lot more than a warmed up muddled re-hash of better WWII movies than this tripe. The directors he attempts to emulate, made movies so bad by accident, or due to budgetary constraints. It\\'s a cop out, time and time again, to hear his fans campaign his lack of imagination as \\'art\\'. I\\'m sure he\\'s capable of better (but after giving him the benefit of the doubt, once more....and not to mention 2 and a half hours of my life.....) maybe he isn\\'t?']"
      ]
     },
     "execution_count": 34,
     "metadata": {},
     "output_type": "execute_result"
    }
   ],
   "source": [
    "sample = dataset['val'][rand_index]\n",
    "sample['text']"
   ]
  },
  {
   "cell_type": "code",
   "execution_count": 35,
   "metadata": {
    "tags": []
   },
   "outputs": [
    {
     "name": "stdout",
     "output_type": "stream",
     "text": [
      "label torch.Size([1])\n",
      "attention_mask torch.Size([1, 512])\n",
      "label: tensor([0], device='cuda:0'), prediction: tensor([0.], device='cuda:0', grad_fn=<SqueezeBackward1>)\n"
     ]
    }
   ],
   "source": [
    "tokenized_sample = dataset_tokenized['val'][rand_index]\n",
    "tokenized_sample\n",
    "input_ids = tokenized_sample['input_ids'].to(device)\n",
    "label = tokenized_sample['label'].to(device)\n",
    "attention_mask = tokenized_sample['attention_mask'].to(float).to(device)\n",
    "\n",
    "print('label', label.shape)\n",
    "print('attention_mask', attention_mask.shape)\n",
    "prediction = model.predict(input_ids, attention_mask).squeeze(0)\n",
    "\n",
    "print('label: {}, prediction: {}'.format(label, prediction))"
   ]
  },
  {
   "attachments": {},
   "cell_type": "markdown",
   "metadata": {},
   "source": [
    "In the next part you wil see how to fine-tune a pretrained model for the same task."
   ]
  },
  {
   "cell_type": "code",
   "execution_count": 36,
   "metadata": {
    "tags": []
   },
   "outputs": [],
   "source": [
    "from cs236781.answers import display_answer\n",
    "import hw3.answers"
   ]
  },
  {
   "attachments": {},
   "cell_type": "markdown",
   "metadata": {},
   "source": [
    "## Questions"
   ]
  },
  {
   "attachments": {},
   "cell_type": "markdown",
   "metadata": {},
   "source": [
    "Fill your answers in hw3.answers.part3_q1 and hw3.answers.part3_q2 "
   ]
  },
  {
   "attachments": {},
   "cell_type": "markdown",
   "metadata": {
    "tags": []
   },
   "source": [
    "### Question 1"
   ]
  },
  {
   "attachments": {},
   "cell_type": "markdown",
   "metadata": {},
   "source": [
    "Explain why stacking encoder layers that use the sliding-window attention results in a broader context in the final layer.\n",
    "Hint: Think what happens when stacking CNN layers.\n"
   ]
  },
  {
   "cell_type": "code",
   "execution_count": 37,
   "metadata": {
    "tags": []
   },
   "outputs": [
    {
     "data": {
      "text/markdown": [
       "\n",
       "**Your answer:**\n",
       "Stacking encoder layers that use sliding-window attention results in a broader context in the final layer due to the cumulative effect of each layer's context expansion.\n",
       "\n",
       "In a single layer of sliding-window attention, each token can attend to its local neighborhood defined by the window size.\n",
       " When multiple such layers are stacked, the effective context of each token increases because tokens within the window \n",
       " of a higher layer can attend to tokens in the windows of the previous layer. This concept is similar to the idea of\n",
       "  a receptive field in Convolutional Neural Networks (CNNs), where stacking layers increases the receptive field, enabling each neuron to capture more context from the input.\n",
       "\n",
       "Specifically, if a single layer of sliding-window attention covers a context of w tokens, after l layers, the effective context each token can attend to becomes approximately l×w tokens.\n",
       "This gradual expansion allows the model to capture increasingly broader context information as it goes deeper into the network, \n",
       "eventually enabling the final layer to access a much wider context across the sequence, despite each layer itself only attending to a small, local window.\n"
      ],
      "text/plain": [
       "<IPython.core.display.Markdown object>"
      ]
     },
     "metadata": {},
     "output_type": "display_data"
    }
   ],
   "source": [
    "display_answer(hw3.answers.part3_q1)"
   ]
  },
  {
   "attachments": {},
   "cell_type": "markdown",
   "metadata": {},
   "source": [
    "### Question 2"
   ]
  },
  {
   "attachments": {},
   "cell_type": "markdown",
   "metadata": {},
   "source": [
    "Propose a variation of the attention pattern such that the computational complexity stays similar to that of the sliding-window attention O(nw), but the attention is computed on a more global context.\n",
    "Note: There is no single correct answer to this, feel free to read the paper that proposed the sliding-window. Any solution that makes sense will be considered correct."
   ]
  },
  {
   "cell_type": "code",
   "execution_count": 38,
   "metadata": {
    "tags": []
   },
   "outputs": [
    {
     "data": {
      "text/markdown": [
       "\n",
       "**Your answer:**\n",
       "Dilated Sliding Window To further increase the receptive field without increasing computation, the sliding window can be “dilated”. \n",
       "In dilated sliding-window attention, instead of attending to a continuous sequence of tokens within a fixed window, \n",
       "the attention is computed over tokens that are spaced out by a fixed stride or dilation rate d. \n",
       "This allows each token to attend to a broader, but sparser set of neighboring tokens, \n",
       "effectively increasing the context that each token can access without increasing the window size.\n",
       "Dilated Window: For a given token at position i, instead of attending to tokens in the range [i−w/2,i+w/2], it attends to tokens at positions \n",
       "i±d×k, where k is an integer such that 0≤k<w/d. This creates a \"dilated\" window where attention is paid to every d-th token within a larger range, rather than every token in a small range.\n",
       "recognizing that local tokens may often carry more relevant information, \n",
       "a hybrid approach can be employed, c\n",
       "ombining dilated attention with regular sliding-window attention. \n",
       "For instance, each token could attend to a few immediate neighbors (dense attention) while also attending to several more distant tokens (dilated attention). \n",
       "This strategy provides a balance between capturing local details and accessing broader context.\n"
      ],
      "text/plain": [
       "<IPython.core.display.Markdown object>"
      ]
     },
     "metadata": {},
     "output_type": "display_data"
    }
   ],
   "source": [
    "display_answer(hw3.answers.part3_q2)"
   ]
  },
  {
   "cell_type": "code",
   "execution_count": null,
   "metadata": {},
   "outputs": [],
   "source": []
  }
 ],
 "metadata": {
  "colab": {
   "provenance": []
  },
  "kernelspec": {
   "display_name": "Python 3 (ipykernel)",
   "language": "python",
   "name": "python3"
  },
  "language_info": {
   "codemirror_mode": {
    "name": "ipython",
    "version": 3
   },
   "file_extension": ".py",
   "mimetype": "text/x-python",
   "name": "python",
   "nbconvert_exporter": "python",
   "pygments_lexer": "ipython3",
   "version": "3.8.12"
  }
 },
 "nbformat": 4,
 "nbformat_minor": 4
}
